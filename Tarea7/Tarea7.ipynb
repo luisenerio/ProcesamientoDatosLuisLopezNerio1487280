{
 "cells": [
  {
   "cell_type": "markdown",
   "id": "3a39b548-bbe1-447c-8d67-35bf887a2c27",
   "metadata": {
    "tags": []
   },
   "source": [
    "# Tarea 7 - Luis Enrique López Nerio 1487280"
   ]
  },
  {
   "cell_type": "markdown",
   "id": "c8c13b84-7669-4ba0-919a-125bd49446ee",
   "metadata": {},
   "source": [
    "Para la realizacion de esta tarea se realiza la clasificacion de vegetales utilizando transferencia de aprendizaje utilizando los pesos de la red neuronal de InceptionV3"
   ]
  },
  {
   "cell_type": "code",
   "execution_count": 25,
   "id": "26adadba-1961-42a8-bd42-e55c215b2469",
   "metadata": {},
   "outputs": [],
   "source": [
    "import numpy as np \n",
    "import pandas as pd \n",
    "import seaborn as sns\n",
    "from PIL import Image \n",
    "from PIL import ImageEnhance\n",
    "from skimage.io import imread\n",
    "import matplotlib.pyplot as plt\n",
    "\n",
    "import os, random, pathlib, warnings, itertools, math\n",
    "warnings.filterwarnings(\"ignore\")\n",
    "\n",
    "import tensorflow as tf\n",
    "import tensorflow.keras.backend as K\n",
    "from sklearn.metrics import confusion_matrix\n",
    "\n",
    "from tensorflow.keras import models\n",
    "from tensorflow.keras.models import Model\n",
    "from tensorflow.keras.models import load_model\n",
    "from tensorflow.keras.preprocessing import image\n",
    "from tensorflow.keras.applications.inception_v3 import InceptionV3,preprocess_input\n",
    "from tensorflow.keras.layers import Dense, Flatten, GlobalAveragePooling2D, Dense, Dropout"
   ]
  },
  {
   "cell_type": "markdown",
   "id": "cee350ed-7b28-4620-b089-101fbf425bb6",
   "metadata": {},
   "source": [
    "Primero definimos algunos constantes como los tamaños de las imagenes, epochs y directorio base de las imagenes"
   ]
  },
  {
   "cell_type": "code",
   "execution_count": 11,
   "id": "0a48a6c9-1a10-4f75-b8dd-13097a19dda6",
   "metadata": {},
   "outputs": [],
   "source": [
    "BASE_URL='..\\\\Tarea 6\\\\Vegetable Images'\n",
    "\n",
    "train_folder = os.path.join(BASE_URL,\"train\")\n",
    "validation_folder = os.path.join(BASE_URL,\"validation\")\n",
    "test_folder = os.path.join(BASE_URL,\"test\")"
   ]
  },
  {
   "cell_type": "markdown",
   "id": "2130ae1d-1f88-44cb-9485-eee424f0587e",
   "metadata": {},
   "source": [
    "Realizamos las modificaciones necesarias para el procesamiento del modelo utilizando InceptionV3, una de las modificaciones mas notables es el ajuste de la capa de salida, ya que esta es de 15 clasificaciones en nuestro caso"
   ]
  },
  {
   "cell_type": "code",
   "execution_count": 4,
   "id": "9e4bf01e-8727-4b67-a2f9-1a51514c58f7",
   "metadata": {},
   "outputs": [
    {
     "name": "stdout",
     "output_type": "stream",
     "text": [
      "Downloading data from https://storage.googleapis.com/tensorflow/keras-applications/inception_v3/inception_v3_weights_tf_dim_ordering_tf_kernels_notop.h5\n",
      "87916544/87910968 [==============================] - 8s 0us/step\n",
      "87924736/87910968 [==============================] - 8s 0us/step\n"
     ]
    }
   ],
   "source": [
    "IMAGE_SIZE = [224, 224]\n",
    "\n",
    "inception = InceptionV3(input_shape=IMAGE_SIZE + [3], weights='imagenet', include_top=False)\n",
    "\n",
    "for layer in inception.layers:\n",
    "    layer.trainable = False\n",
    "\n",
    "x = inception.output\n",
    "x = GlobalAveragePooling2D()(x)\n",
    "x = Dense(128,activation='relu')(x)\n",
    "x = Dropout(0.2)(x)\n",
    "\n",
    "prediction = Dense(15, activation='softmax')(x)\n",
    "\n",
    "model = Model(inputs=inception.input, outputs=prediction)\n",
    "\n",
    "model.compile(\n",
    "  loss='categorical_crossentropy',\n",
    "  optimizer='adam',\n",
    "  metrics=['accuracy']\n",
    ")"
   ]
  },
  {
   "cell_type": "markdown",
   "id": "946ef59a-380e-4076-8f13-0b2946a17d35",
   "metadata": {},
   "source": [
    "Leemos las imagenes de entrenamiento y prueba"
   ]
  },
  {
   "cell_type": "code",
   "execution_count": 5,
   "id": "bfd2531a-4959-444d-a885-c673c3d82895",
   "metadata": {},
   "outputs": [
    {
     "name": "stdout",
     "output_type": "stream",
     "text": [
      "Found 15001 images belonging to 15 classes.\n",
      "Found 3000 images belonging to 15 classes.\n"
     ]
    }
   ],
   "source": [
    "train_datagen = image.ImageDataGenerator(rescale = 1./255,\n",
    "                                         shear_range = 0.2,\n",
    "                                         zoom_range = 0.2,\n",
    "                                         horizontal_flip = True)\n",
    "\n",
    "test_datagen = image.ImageDataGenerator(rescale = 1./255)\n",
    "\n",
    "training_set = train_datagen.flow_from_directory(\n",
    "    train_folder,\n",
    "    target_size = (224, 224),\n",
    "    batch_size = 64,\n",
    "    class_mode = 'categorical')\n",
    "\n",
    "test_set = test_datagen.flow_from_directory(\n",
    "    test_folder, \n",
    "    target_size = (224, 224),\n",
    "    batch_size = 64, \n",
    "    class_mode = 'categorical')"
   ]
  },
  {
   "cell_type": "code",
   "execution_count": 6,
   "id": "6188daa1-df50-45e1-9ba2-5f610bbac073",
   "metadata": {},
   "outputs": [
    {
     "data": {
      "text/plain": [
       "{'Bean': 0,\n",
       " 'Bitter_Gourd': 1,\n",
       " 'Bottle_Gourd': 2,\n",
       " 'Brinjal': 3,\n",
       " 'Broccoli': 4,\n",
       " 'Cabbage': 5,\n",
       " 'Capsicum': 6,\n",
       " 'Carrot': 7,\n",
       " 'Cauliflower': 8,\n",
       " 'Cucumber': 9,\n",
       " 'Papaya': 10,\n",
       " 'Potato': 11,\n",
       " 'Pumpkin': 12,\n",
       " 'Radish': 13,\n",
       " 'Tomato': 14}"
      ]
     },
     "execution_count": 6,
     "metadata": {},
     "output_type": "execute_result"
    }
   ],
   "source": [
    "class_map = training_set.class_indices\n",
    "class_map"
   ]
  },
  {
   "cell_type": "markdown",
   "id": "9b6fb1d2-713e-4820-a3f7-96875313363c",
   "metadata": {},
   "source": [
    "Entrenamos el model para la transferencia de aprendizaje"
   ]
  },
  {
   "cell_type": "code",
   "execution_count": 7,
   "id": "b0eeca43-5d3e-4034-9dbc-1a1d8fb129dd",
   "metadata": {},
   "outputs": [
    {
     "name": "stdout",
     "output_type": "stream",
     "text": [
      "Epoch 1/5\n",
      "235/235 [==============================] - 199s 788ms/step - loss: 0.2660 - accuracy: 0.9207 - val_loss: 0.0426 - val_accuracy: 0.9893\n",
      "Epoch 2/5\n",
      "235/235 [==============================] - 149s 634ms/step - loss: 0.0722 - accuracy: 0.9777 - val_loss: 0.0270 - val_accuracy: 0.9933\n",
      "Epoch 3/5\n",
      "235/235 [==============================] - 148s 631ms/step - loss: 0.0496 - accuracy: 0.9841 - val_loss: 0.0306 - val_accuracy: 0.9900\n",
      "Epoch 4/5\n",
      "235/235 [==============================] - 150s 638ms/step - loss: 0.0393 - accuracy: 0.9872 - val_loss: 0.0179 - val_accuracy: 0.9937\n",
      "Epoch 5/5\n",
      "235/235 [==============================] - 152s 644ms/step - loss: 0.0314 - accuracy: 0.9909 - val_loss: 0.0158 - val_accuracy: 0.9950\n"
     ]
    }
   ],
   "source": [
    "r = model.fit_generator(\n",
    "  training_set,\n",
    "  validation_data=test_set,\n",
    "  epochs=5,\n",
    "  steps_per_epoch=len(training_set),\n",
    "  validation_steps=len(test_set)\n",
    ")"
   ]
  },
  {
   "cell_type": "code",
   "execution_count": 8,
   "id": "ce2848c4-2c6b-4cef-93cb-fed7e37ee8e9",
   "metadata": {},
   "outputs": [],
   "source": [
    "model.save('transfer_learning_model.h5')"
   ]
  },
  {
   "cell_type": "markdown",
   "id": "22ddbdb9-fdb7-45c4-8c5e-f44024dd49ed",
   "metadata": {},
   "source": [
    "Mostramos las curvas de precision y de perdida a lo largo de los epochs.\n",
    "\n",
    "Algo que se puede notar es como poco a poco el acurracy va en aumento al igual que la perdida se reduce."
   ]
  },
  {
   "cell_type": "code",
   "execution_count": 9,
   "id": "a7cfa77f-40ea-4b39-8e7b-8d1cefeee405",
   "metadata": {},
   "outputs": [
    {
     "data": {
      "image/png": "[encoded data removed]",
      "text/plain": [
       "<Figure size 432x288 with 1 Axes>"
      ]
     },
     "metadata": {
      "needs_background": "light"
     },
     "output_type": "display_data"
    },
    {
     "data": {
      "image/png": "[encoded data removed]",
      "text/plain": [
       "<Figure size 432x288 with 1 Axes>"
      ]
     },
     "metadata": {
      "needs_background": "light"
     },
     "output_type": "display_data"
    }
   ],
   "source": [
    "def plot_accuracy(history):\n",
    "    \n",
    "    plt.plot(history.history['accuracy'],label='train accuracy')\n",
    "    plt.plot(history.history['val_accuracy'],label='validation accuracy')\n",
    "    plt.title('Model accuracy')\n",
    "    plt.ylabel('Accuracy')\n",
    "    plt.xlabel('Epoch')\n",
    "    plt.legend(loc='best')\n",
    "    plt.savefig('Accuracy_v1_InceptionV3')\n",
    "    plt.show()\n",
    "    \n",
    "def plot_loss(history):\n",
    "    \n",
    "    plt.plot(history.history['loss'],label=\"train loss\")\n",
    "    plt.plot(history.history['val_loss'],label=\"validation loss\")\n",
    "    plt.title('Model loss')\n",
    "    plt.ylabel('Loss')\n",
    "    plt.xlabel('Epoch')\n",
    "    plt.legend(loc='best')\n",
    "    plt.savefig('Loss_v1_InceptionV3')\n",
    "    plt.show()\n",
    "    \n",
    "plot_accuracy(r)\n",
    "plot_loss(r)"
   ]
  },
  {
   "cell_type": "code",
   "execution_count": 10,
   "id": "3ccf1066-e3fd-492d-bb25-2968ce0ad10f",
   "metadata": {},
   "outputs": [
    {
     "name": "stdout",
     "output_type": "stream",
     "text": [
      "Loading the model..\n",
      "Done!\n"
     ]
    }
   ],
   "source": [
    "K.clear_session()\n",
    "path_to_model='./transfer_learning_model.h5'\n",
    "print(\"Loading the model..\")\n",
    "model = load_model(path_to_model)\n",
    "print(\"Done!\")"
   ]
  },
  {
   "cell_type": "markdown",
   "id": "44091ab9-99aa-419f-a67c-218cc39e2412",
   "metadata": {},
   "source": [
    "En base al modelo generado vamos a compararlo con los datos de validacion. Para esto leeremos las imagenes de validacion y finalmente veremos el resultado final en una matriz de confusion."
   ]
  },
  {
   "cell_type": "code",
   "execution_count": 12,
   "id": "95cd4c29-20a0-4aed-b56c-b94641e3df3c",
   "metadata": {},
   "outputs": [
    {
     "name": "stdout",
     "output_type": "stream",
     "text": [
      "Found 3000 images belonging to 15 classes.\n",
      "Test Accuracy: 0.995\n"
     ]
    }
   ],
   "source": [
    "validation_datagen = image.ImageDataGenerator(rescale=1. / 255)\n",
    "\n",
    "validation_generator = validation_datagen.flow_from_directory(\n",
    "    validation_folder,\n",
    "    target_size=(224,224),\n",
    "    batch_size=64,\n",
    "    class_mode='categorical')\n",
    "\n",
    "scores = model.evaluate_generator(validation_generator)\n",
    "print(\"Test Accuracy: {:.3f}\".format(scores[1]))"
   ]
  },
  {
   "cell_type": "code",
   "execution_count": 19,
   "id": "2436c56b-2804-4708-944a-cb013bae3428",
   "metadata": {},
   "outputs": [],
   "source": [
    "category={\n",
    "    0: 'Bean', 1: 'Bitter_Gourd', 2: 'Bottle_Gourd', 3 : 'Brinjal', 4: \"Broccoli\", 5: 'Cabbage', 6: 'Capsicum', 7: 'Carrot', 8: 'Cauliflower',\n",
    "    9: 'Cucumber', 10: 'Papaya', 11: 'Potato', 12: 'Pumpkin', 13 : \"Radish\", 14: \"Tomato\"\n",
    "}\n",
    "\n",
    "def predict_image(filename,model):\n",
    "    img_ = image.load_img(filename, target_size=(224, 224))\n",
    "    img_array = image.img_to_array(img_)\n",
    "    img_processed = np.expand_dims(img_array, axis=0) \n",
    "    img_processed /= 255.   \n",
    "    \n",
    "    prediction = model.predict(img_processed)\n",
    "    index = np.argmax(prediction)\n",
    "    \n",
    "    plt.title(\"Prediction - {}\".format(category[index]))\n",
    "    plt.imshow(img_array)\n",
    "    \n",
    "def predict_dir(filedir,model):\n",
    "    cols=3\n",
    "    pos=0\n",
    "    images=[]\n",
    "    total_images=len(os.listdir(filedir))\n",
    "    rows=total_images//cols + 1\n",
    "    \n",
    "    true=filedir.split('\\\\')[-1]\n",
    "    \n",
    "    for i in sorted(os.listdir(filedir)):\n",
    "        images.append(os.path.join(filedir,i))\n",
    "        \n",
    "    for subplot, imggg in enumerate(images):\n",
    "        img_ = image.load_img(imggg, target_size=(224, 224))\n",
    "        img_array = image.img_to_array(img_)\n",
    "        img_processed = np.expand_dims(img_array, axis=0) \n",
    "        img_processed /= 255.\n",
    "        prediction = model.predict(img_processed)\n",
    "        index = np.argmax(prediction)\n",
    "                \n",
    "        pred=category.get(index)\n",
    "        if pred==true:\n",
    "            pos+=1\n",
    "\n",
    "    acc=pos/total_images\n",
    "    print(\"Accuracy for {orignal}: {:.2f} ({pos}/{total})\".format(acc,pos=pos,total=total_images,orignal=true))"
   ]
  },
  {
   "cell_type": "code",
   "execution_count": 20,
   "id": "06038ec5-8107-41a0-a9e2-d1e6da96ed35",
   "metadata": {},
   "outputs": [
    {
     "name": "stdout",
     "output_type": "stream",
     "text": [
      "Accuracy for Bean: 1.00 (200/200)\n",
      "Accuracy for Bitter_Gourd: 1.00 (200/200)\n",
      "Accuracy for Bottle_Gourd: 0.99 (198/200)\n",
      "Accuracy for Brinjal: 0.98 (196/200)\n",
      "Accuracy for Broccoli: 1.00 (200/200)\n",
      "Accuracy for Cabbage: 1.00 (200/200)\n",
      "Accuracy for Capsicum: 1.00 (200/200)\n",
      "Accuracy for Carrot: 0.99 (198/200)\n",
      "Accuracy for Cauliflower: 1.00 (200/200)\n",
      "Accuracy for Cucumber: 0.99 (199/200)\n",
      "Accuracy for Papaya: 0.98 (196/200)\n",
      "Accuracy for Potato: 1.00 (200/200)\n",
      "Accuracy for Pumpkin: 0.99 (199/200)\n",
      "Accuracy for Radish: 0.99 (199/200)\n",
      "Accuracy for Tomato: 1.00 (200/200)\n"
     ]
    }
   ],
   "source": [
    "for i in os.listdir(validation_folder):\n",
    "    predict_dir(os.path.join(validation_folder,i),model)"
   ]
  },
  {
   "cell_type": "code",
   "execution_count": 23,
   "id": "686557b0-de28-4332-91ff-1f5d799fb48b",
   "metadata": {},
   "outputs": [],
   "source": [
    "def labels_confusion_matrix(validation_folder):\n",
    "    \n",
    "    folder_path=validation_folder\n",
    "    \n",
    "    mapping={}\n",
    "    for i,j in enumerate(sorted(os.listdir(folder_path))):\n",
    "        mapping[j]=i\n",
    "    \n",
    "    files=[]\n",
    "    real=[]\n",
    "    predicted=[]\n",
    "\n",
    "    for i in os.listdir(folder_path):\n",
    "        \n",
    "        true=os.path.join(folder_path,i)\n",
    "        true=true.split('\\\\')[-1]\n",
    "        true=mapping[true]\n",
    "        \n",
    "        for j in os.listdir(os.path.join(folder_path,i)):\n",
    "\n",
    "            img_ = image.load_img(os.path.join(folder_path,i,j), target_size=(224,224))\n",
    "            img_array = image.img_to_array(img_)\n",
    "            img_processed = np.expand_dims(img_array, axis=0) \n",
    "            img_processed /= 255.\n",
    "            prediction = model.predict(img_processed)\n",
    "            index = np.argmax(prediction)\n",
    "\n",
    "            predicted.append(index)\n",
    "            real.append(true)\n",
    "            \n",
    "    return (real,predicted)\n",
    "\n",
    "def print_confusion_matrix(real,predicted):\n",
    "    total_output_labels = 15\n",
    "    cmap=\"turbo\"\n",
    "    cm_plot_labels = [i for i in range(15)]\n",
    "    \n",
    "    cm = confusion_matrix(y_true=real, y_pred=predicted)\n",
    "    df_cm = pd.DataFrame(cm,cm_plot_labels,cm_plot_labels)\n",
    "    sns.set(font_scale=1.2) # for label size\n",
    "    plt.figure(figsize = (15,10))\n",
    "    s=sns.heatmap(df_cm,fmt=\"d\", annot=True,cmap=cmap) # font size\n",
    "\n",
    "    plt.ylabel('True label')\n",
    "    plt.xlabel('Predicted label')\n",
    "    plt.savefig('confusion_matrix.png')\n",
    "    plt.show()"
   ]
  },
  {
   "cell_type": "code",
   "execution_count": 24,
   "id": "82ae97b9-b570-45cb-ba04-a3fffae1fa1f",
   "metadata": {},
   "outputs": [
    {
     "data": {
      "image/png": "[encoded data removed]",
      "text/plain": [
       "<Figure size 1080x720 with 2 Axes>"
      ]
     },
     "metadata": {},
     "output_type": "display_data"
    }
   ],
   "source": [
    "y_true,y_pred=labels_confusion_matrix(validation_folder)\n",
    "print_confusion_matrix(y_true,y_pred)"
   ]
  },
  {
   "cell_type": "code",
   "execution_count": 26,
   "id": "2865bf93-0a87-46df-b24c-49c03aef0af4",
   "metadata": {},
   "outputs": [
    {
     "data": {
      "text/plain": [
       "0.995"
      ]
     },
     "execution_count": 26,
     "metadata": {},
     "output_type": "execute_result"
    }
   ],
   "source": [
    "y_true = np.array(y_true)\n",
    "y_pred = np.array(y_pred)\n",
    "\n",
    "np.count_nonzero(y_pred == y_true) / len(y_pred)"
   ]
  },
  {
   "cell_type": "markdown",
   "id": "1c8acdeb-278f-4fa8-8cbc-d0324a8cbbe0",
   "metadata": {},
   "source": [
    "## Conclusion"
   ]
  },
  {
   "cell_type": "markdown",
   "id": "fb63fd0a-8096-4bdb-8ea7-5925d4c70785",
   "metadata": {},
   "source": [
    "El uso de transferencia de aprendizaje nos dio un resultado mejor que el utilizar una arquitectura en base a Alexnet. Aunque los resultados son muy similares se obtuvo una mejora en comparacion al 98% de precision obtenidos para la tarea anterior."
   ]
  },
  {
   "cell_type": "code",
   "execution_count": null,
   "id": "add35400-afe2-4806-b8f8-f92cdaabcc8a",
   "metadata": {},
   "outputs": [],
   "source": []
  }
 ],
 "metadata": {
  "kernelspec": {
   "display_name": "Python 3.8.8 ('base')",
   "language": "python",
   "name": "python3"
  },
  "language_info": {
   "codemirror_mode": {
    "name": "ipython",
    "version": 3
   },
   "file_extension": ".py",
   "mimetype": "text/x-python",
   "name": "python",
   "nbconvert_exporter": "python",
   "pygments_lexer": "ipython3",
   "version": "3.8.8"
  },
  "vscode": {
   "interpreter": {
    "hash": "f08154012ddadd8e950e6e9e035c7a7b32c136e7647e9b7c77e02eb723a8bedb"
   }
  }
 },
 "nbformat": 4,
 "nbformat_minor": 5
}
