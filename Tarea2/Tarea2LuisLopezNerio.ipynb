{
 "cells": [
  {
   "cell_type": "markdown",
   "metadata": {},
   "source": [
    "# Tarea2\n",
    "### Preprocesamiento de datos\n",
    "##### Luis Enrique López Nerio 1487280"
   ]
  },
  {
   "cell_type": "markdown",
   "metadata": {},
   "source": [
    "Versión de python que estoy usando\n"
   ]
  },
  {
   "cell_type": "code",
   "execution_count": 194,
   "metadata": {},
   "outputs": [
    {
     "name": "stdout",
     "output_type": "stream",
     "text": [
      "3.8.8 (default, Apr 13 2021, 15:08:03) [MSC v.1916 64 bit (AMD64)]\n"
     ]
    }
   ],
   "source": [
    "import sys\n",
    "print(sys.version)"
   ]
  },
  {
   "cell_type": "markdown",
   "metadata": {},
   "source": [
    "librerias"
   ]
  },
  {
   "cell_type": "code",
   "execution_count": 195,
   "metadata": {},
   "outputs": [
    {
     "name": "stderr",
     "output_type": "stream",
     "text": [
      "[nltk_data] Downloading package wordnet to\n",
      "[nltk_data]     C:\\Users\\User\\AppData\\Roaming\\nltk_data...\n",
      "[nltk_data]   Package wordnet is already up-to-date!\n",
      "[nltk_data] Downloading package punkt to\n",
      "[nltk_data]     C:\\Users\\User\\AppData\\Roaming\\nltk_data...\n",
      "[nltk_data]   Package punkt is already up-to-date!\n",
      "[nltk_data] Downloading package stopwords to\n",
      "[nltk_data]     C:\\Users\\User\\AppData\\Roaming\\nltk_data...\n",
      "[nltk_data]   Package stopwords is already up-to-date!\n",
      "[nltk_data] Downloading package averaged_perceptron_tagger to\n",
      "[nltk_data]     C:\\Users\\User\\AppData\\Roaming\\nltk_data...\n",
      "[nltk_data]   Package averaged_perceptron_tagger is already up-to-\n",
      "[nltk_data]       date!\n",
      "[nltk_data] Downloading package sentiwordnet to\n",
      "[nltk_data]     C:\\Users\\User\\AppData\\Roaming\\nltk_data...\n",
      "[nltk_data]   Package sentiwordnet is already up-to-date!\n"
     ]
    }
   ],
   "source": [
    "import pandas as pd\n",
    "import re\n",
    "import numpy as np\n",
    "from textblob import TextBlob\n",
    "\n",
    "from vaderSentiment.vaderSentiment import SentimentIntensityAnalyzer\n",
    "from nltk.stem import WordNetLemmatizer\n",
    "from nltk.corpus import stopwords\n",
    "from nltk.stem.porter import PorterStemmer\n",
    "import nltk\n",
    "import string\n",
    "from nltk.tokenize import word_tokenize\n",
    "import seaborn as sns\n",
    "import matplotlib.pyplot as plt\n",
    "from wordcloud import WordCloud, STOPWORDS\n",
    "stop_words = set(stopwords.words('english'))\n",
    "lemmatizer = WordNetLemmatizer() \n",
    "nltk.download('wordnet')\n",
    "\n",
    "\n",
    "nltk.download('punkt')\n",
    "from nltk import pos_tag\n",
    "nltk.download('stopwords')\n",
    "from nltk.corpus import stopwords\n",
    "from nltk.corpus import wordnet\n",
    "nltk.download('averaged_perceptron_tagger')\n",
    "\n",
    "nltk.download('sentiwordnet')\n",
    "from nltk.corpus import sentiwordnet as swn\n",
    "\n",
    "sns.set()"
   ]
  },
  {
   "cell_type": "markdown",
   "metadata": {},
   "source": [
    "#### Lectura de la base\n",
    "La base cuenta con tres columnas: \n",
    "| Estrellas | Comentario | URL |\n",
    "|-----------|------------|-----|\n",
    "1. Lectura de base y limpieza de la base\n",
    "2. Preprocesamiento\n"
   ]
  },
  {
   "cell_type": "code",
   "execution_count": 196,
   "metadata": {},
   "outputs": [
    {
     "data": {
      "text/html": [
       "<div>\n",
       "<style scoped>\n",
       "    .dataframe tbody tr th:only-of-type {\n",
       "        vertical-align: middle;\n",
       "    }\n",
       "\n",
       "    .dataframe tbody tr th {\n",
       "        vertical-align: top;\n",
       "    }\n",
       "\n",
       "    .dataframe thead th {\n",
       "        text-align: right;\n",
       "    }\n",
       "</style>\n",
       "<table border=\"1\" class=\"dataframe\">\n",
       "  <thead>\n",
       "    <tr style=\"text-align: right;\">\n",
       "      <th></th>\n",
       "      <th>stars</th>\n",
       "      <th>comment</th>\n",
       "      <th>book_url</th>\n",
       "      <th>LongitudComentario</th>\n",
       "      <th>sentimiento1</th>\n",
       "      <th>comment_clean</th>\n",
       "      <th>Polaridad_textBlob</th>\n",
       "      <th>sentimiento_textBlob</th>\n",
       "      <th>Sentiment_Vader</th>\n",
       "      <th>sentimiento_Vader</th>\n",
       "      <th>POS tagged</th>\n",
       "      <th>sentimiento_sentinet</th>\n",
       "    </tr>\n",
       "  </thead>\n",
       "  <tbody>\n",
       "    <tr>\n",
       "      <th>0</th>\n",
       "      <td>5.0</td>\n",
       "      <td>Let me say at the outset of this review that I...</td>\n",
       "      <td>https://www.amazon.com/dp/1492041130</td>\n",
       "      <td>257</td>\n",
       "      <td>Positive</td>\n",
       "      <td>let say outset review respect author sheer gui...</td>\n",
       "      <td>0.233069</td>\n",
       "      <td>Positive</td>\n",
       "      <td>0.3487</td>\n",
       "      <td>Neutral</td>\n",
       "      <td>[(let, v), (say, v), (outset, v), (review, n),...</td>\n",
       "      <td>Positive</td>\n",
       "    </tr>\n",
       "    <tr>\n",
       "      <th>1</th>\n",
       "      <td>1.0</td>\n",
       "      <td>Its Capitalism at its best I read the book fro...</td>\n",
       "      <td>https://www.amazon.com/dp/1492041130</td>\n",
       "      <td>194</td>\n",
       "      <td>Negative</td>\n",
       "      <td>capitalism best read book nearby bookstore lik...</td>\n",
       "      <td>0.227005</td>\n",
       "      <td>Positive</td>\n",
       "      <td>0.9503</td>\n",
       "      <td>Positive</td>\n",
       "      <td>[(capitalism, n), (best, a), (read, a), (book,...</td>\n",
       "      <td>Positive</td>\n",
       "    </tr>\n",
       "    <tr>\n",
       "      <th>2</th>\n",
       "      <td>5.0</td>\n",
       "      <td>If youre looking to get started with data scie...</td>\n",
       "      <td>https://www.amazon.com/dp/1492041130</td>\n",
       "      <td>61</td>\n",
       "      <td>Positive</td>\n",
       "      <td>youre looking get started data science youre c...</td>\n",
       "      <td>0.108333</td>\n",
       "      <td>Positive</td>\n",
       "      <td>0.4215</td>\n",
       "      <td>Neutral</td>\n",
       "      <td>[(youre, n), (looking, v), (get, n), (started,...</td>\n",
       "      <td>Neutral</td>\n",
       "    </tr>\n",
       "    <tr>\n",
       "      <th>3</th>\n",
       "      <td>4.0</td>\n",
       "      <td>In general this is a good book It covers a wid...</td>\n",
       "      <td>https://www.amazon.com/dp/1492041130</td>\n",
       "      <td>106</td>\n",
       "      <td>Neutral</td>\n",
       "      <td>general good book cover wide variety topic go ...</td>\n",
       "      <td>0.057509</td>\n",
       "      <td>Positive</td>\n",
       "      <td>0.7255</td>\n",
       "      <td>Positive</td>\n",
       "      <td>[(general, a), (good, a), (book, n), (cover, n...</td>\n",
       "      <td>Positive</td>\n",
       "    </tr>\n",
       "    <tr>\n",
       "      <th>4</th>\n",
       "      <td>5.0</td>\n",
       "      <td>I was an academic data scientist decades befor...</td>\n",
       "      <td>https://www.amazon.com/dp/1492041130</td>\n",
       "      <td>149</td>\n",
       "      <td>Positive</td>\n",
       "      <td>academic data scientist decade term coined lov...</td>\n",
       "      <td>0.317308</td>\n",
       "      <td>Positive</td>\n",
       "      <td>0.9670</td>\n",
       "      <td>Positive</td>\n",
       "      <td>[(academic, a), (data, n), (scientist, n), (de...</td>\n",
       "      <td>Positive</td>\n",
       "    </tr>\n",
       "    <tr>\n",
       "      <th>...</th>\n",
       "      <td>...</td>\n",
       "      <td>...</td>\n",
       "      <td>...</td>\n",
       "      <td>...</td>\n",
       "      <td>...</td>\n",
       "      <td>...</td>\n",
       "      <td>...</td>\n",
       "      <td>...</td>\n",
       "      <td>...</td>\n",
       "      <td>...</td>\n",
       "      <td>...</td>\n",
       "      <td>...</td>\n",
       "    </tr>\n",
       "    <tr>\n",
       "      <th>20642</th>\n",
       "      <td>3.0</td>\n",
       "      <td>This book offers nice information and thoughts...</td>\n",
       "      <td>https://www.amazon.com/dp/0980200482</td>\n",
       "      <td>28</td>\n",
       "      <td>Neutral</td>\n",
       "      <td>book offer nice information thought thinking b...</td>\n",
       "      <td>0.266667</td>\n",
       "      <td>Positive</td>\n",
       "      <td>-0.1531</td>\n",
       "      <td>Neutral</td>\n",
       "      <td>[(book, n), (offer, n), (nice, a), (informatio...</td>\n",
       "      <td>Neutral</td>\n",
       "    </tr>\n",
       "    <tr>\n",
       "      <th>20643</th>\n",
       "      <td>5.0</td>\n",
       "      <td>Am disabled retired RN but always wished I was...</td>\n",
       "      <td>https://www.amazon.com/dp/0980200482</td>\n",
       "      <td>25</td>\n",
       "      <td>Positive</td>\n",
       "      <td>disabled retired rn always wished librarian pe...</td>\n",
       "      <td>-0.200000</td>\n",
       "      <td>Negative</td>\n",
       "      <td>0.9022</td>\n",
       "      <td>Positive</td>\n",
       "      <td>[(disabled, a), (retired, v), (rn, n), (always...</td>\n",
       "      <td>Negative</td>\n",
       "    </tr>\n",
       "    <tr>\n",
       "      <th>20644</th>\n",
       "      <td>3.0</td>\n",
       "      <td>At one point I considered library work as oppo...</td>\n",
       "      <td>https://www.amazon.com/dp/0980200482</td>\n",
       "      <td>84</td>\n",
       "      <td>Neutral</td>\n",
       "      <td>one point considered library work opposed work...</td>\n",
       "      <td>0.212500</td>\n",
       "      <td>Positive</td>\n",
       "      <td>0.4939</td>\n",
       "      <td>Neutral</td>\n",
       "      <td>[(one, None), (point, n), (considered, v), (li...</td>\n",
       "      <td>Positive</td>\n",
       "    </tr>\n",
       "    <tr>\n",
       "      <th>20645</th>\n",
       "      <td>5.0</td>\n",
       "      <td>Overall I think this is an excellent resource ...</td>\n",
       "      <td>https://www.amazon.com/dp/0980200482</td>\n",
       "      <td>89</td>\n",
       "      <td>Positive</td>\n",
       "      <td>overall think excellent resource anyone pursui...</td>\n",
       "      <td>0.488889</td>\n",
       "      <td>Positive</td>\n",
       "      <td>0.9719</td>\n",
       "      <td>Positive</td>\n",
       "      <td>[(overall, a), (think, v), (excellent, a), (re...</td>\n",
       "      <td>Positive</td>\n",
       "    </tr>\n",
       "    <tr>\n",
       "      <th>20646</th>\n",
       "      <td>5.0</td>\n",
       "      <td>GREAT</td>\n",
       "      <td>https://www.amazon.com/dp/0980200482</td>\n",
       "      <td>1</td>\n",
       "      <td>Positive</td>\n",
       "      <td>great</td>\n",
       "      <td>0.800000</td>\n",
       "      <td>Positive</td>\n",
       "      <td>0.6249</td>\n",
       "      <td>Positive</td>\n",
       "      <td>[(great, a)]</td>\n",
       "      <td>Neutral</td>\n",
       "    </tr>\n",
       "  </tbody>\n",
       "</table>\n",
       "<p>20647 rows × 12 columns</p>\n",
       "</div>"
      ],
      "text/plain": [
       "      stars                                            comment  \\\n",
       "0       5.0  Let me say at the outset of this review that I...   \n",
       "1       1.0  Its Capitalism at its best I read the book fro...   \n",
       "2       5.0  If youre looking to get started with data scie...   \n",
       "3       4.0  In general this is a good book It covers a wid...   \n",
       "4       5.0  I was an academic data scientist decades befor...   \n",
       "...     ...                                                ...   \n",
       "20642   3.0  This book offers nice information and thoughts...   \n",
       "20643   5.0  Am disabled retired RN but always wished I was...   \n",
       "20644   3.0  At one point I considered library work as oppo...   \n",
       "20645   5.0  Overall I think this is an excellent resource ...   \n",
       "20646   5.0                                              GREAT   \n",
       "\n",
       "                                   book_url  LongitudComentario sentimiento1  \\\n",
       "0      https://www.amazon.com/dp/1492041130                 257     Positive   \n",
       "1      https://www.amazon.com/dp/1492041130                 194     Negative   \n",
       "2      https://www.amazon.com/dp/1492041130                  61     Positive   \n",
       "3      https://www.amazon.com/dp/1492041130                 106      Neutral   \n",
       "4      https://www.amazon.com/dp/1492041130                 149     Positive   \n",
       "...                                     ...                 ...          ...   \n",
       "20642  https://www.amazon.com/dp/0980200482                  28      Neutral   \n",
       "20643  https://www.amazon.com/dp/0980200482                  25     Positive   \n",
       "20644  https://www.amazon.com/dp/0980200482                  84      Neutral   \n",
       "20645  https://www.amazon.com/dp/0980200482                  89     Positive   \n",
       "20646  https://www.amazon.com/dp/0980200482                   1     Positive   \n",
       "\n",
       "                                           comment_clean  Polaridad_textBlob  \\\n",
       "0      let say outset review respect author sheer gui...            0.233069   \n",
       "1      capitalism best read book nearby bookstore lik...            0.227005   \n",
       "2      youre looking get started data science youre c...            0.108333   \n",
       "3      general good book cover wide variety topic go ...            0.057509   \n",
       "4      academic data scientist decade term coined lov...            0.317308   \n",
       "...                                                  ...                 ...   \n",
       "20642  book offer nice information thought thinking b...            0.266667   \n",
       "20643  disabled retired rn always wished librarian pe...           -0.200000   \n",
       "20644  one point considered library work opposed work...            0.212500   \n",
       "20645  overall think excellent resource anyone pursui...            0.488889   \n",
       "20646                                              great            0.800000   \n",
       "\n",
       "      sentimiento_textBlob  Sentiment_Vader sentimiento_Vader  \\\n",
       "0                 Positive           0.3487           Neutral   \n",
       "1                 Positive           0.9503          Positive   \n",
       "2                 Positive           0.4215           Neutral   \n",
       "3                 Positive           0.7255          Positive   \n",
       "4                 Positive           0.9670          Positive   \n",
       "...                    ...              ...               ...   \n",
       "20642             Positive          -0.1531           Neutral   \n",
       "20643             Negative           0.9022          Positive   \n",
       "20644             Positive           0.4939           Neutral   \n",
       "20645             Positive           0.9719          Positive   \n",
       "20646             Positive           0.6249          Positive   \n",
       "\n",
       "                                              POS tagged sentimiento_sentinet  \n",
       "0      [(let, v), (say, v), (outset, v), (review, n),...             Positive  \n",
       "1      [(capitalism, n), (best, a), (read, a), (book,...             Positive  \n",
       "2      [(youre, n), (looking, v), (get, n), (started,...              Neutral  \n",
       "3      [(general, a), (good, a), (book, n), (cover, n...             Positive  \n",
       "4      [(academic, a), (data, n), (scientist, n), (de...             Positive  \n",
       "...                                                  ...                  ...  \n",
       "20642  [(book, n), (offer, n), (nice, a), (informatio...              Neutral  \n",
       "20643  [(disabled, a), (retired, v), (rn, n), (always...             Negative  \n",
       "20644  [(one, None), (point, n), (considered, v), (li...             Positive  \n",
       "20645  [(overall, a), (think, v), (excellent, a), (re...             Positive  \n",
       "20646                                       [(great, a)]              Neutral  \n",
       "\n",
       "[20647 rows x 12 columns]"
      ]
     },
     "execution_count": 196,
     "metadata": {},
     "output_type": "execute_result"
    }
   ],
   "source": [
    "base"
   ]
  },
  {
   "cell_type": "code",
   "execution_count": 197,
   "metadata": {},
   "outputs": [],
   "source": [
    "base = pd.read_csv('..//Tarea1/Reviews.csv', quotechar=\"\\\"\", dtype = {'stars':'str'})\n",
    "base['comment'] = base['comment'].apply(lambda x: re.sub('[^a-zA-Z ]','',x))\n",
    "base['LongitudComentario'] = base['comment'].apply(lambda x: len(str(x).split()))\n",
    "base['sentimiento1'] = np.where(base['stars'].isin(['4.0', '5.0']),'Positive', np.where( base['stars'].isin([ '3.0']), 'Neutral', 'Negative'  )     )"
   ]
  },
  {
   "cell_type": "code",
   "execution_count": 198,
   "metadata": {},
   "outputs": [],
   "source": [
    "def preprocesamiento(comentario):\n",
    "    comentario =  re.sub('[^a-zA-Z]',' ',comentario)\n",
    "    palabras = word_tokenize(comentario)\n",
    "    palabras = [palabra.lower() for palabra in palabras ]\n",
    "    \n",
    "    #palabras = [palabra.translate(tabla) for palabra in palabras]\n",
    "    palabras = [palabra for palabra in palabras if palabra.isalpha()]\n",
    "    palabras = [palabra for palabra in palabras if not palabra in stop_words]\n",
    "    palabras = [lemmatizer.lemmatize(palabra) for palabra in palabras]\n",
    "    palabras = \" \".join(palabras)\n",
    "    return palabras"
   ]
  },
  {
   "cell_type": "code",
   "execution_count": 199,
   "metadata": {},
   "outputs": [],
   "source": [
    "base['comment_clean']= base['comment'].apply(lambda x:preprocesamiento(x))"
   ]
  },
  {
   "cell_type": "code",
   "execution_count": 200,
   "metadata": {},
   "outputs": [
    {
     "data": {
      "text/plain": [
       "stars                 object\n",
       "comment               object\n",
       "book_url              object\n",
       "LongitudComentario     int64\n",
       "sentimiento1          object\n",
       "comment_clean         object\n",
       "dtype: object"
      ]
     },
     "execution_count": 200,
     "metadata": {},
     "output_type": "execute_result"
    }
   ],
   "source": [
    "base.dtypes"
   ]
  },
  {
   "cell_type": "markdown",
   "metadata": {},
   "source": [
    "textblob"
   ]
  },
  {
   "cell_type": "code",
   "execution_count": 201,
   "metadata": {},
   "outputs": [],
   "source": [
    "\n",
    "\n",
    "# function to calculate polarity\n",
    "def getPolarity(review):\n",
    "    return TextBlob(review).sentiment.polarity\n",
    "\n",
    "# function to analyze the reviews\n",
    "def analysis(score):\n",
    "    if score < 0:\n",
    "        return 'Negative'\n",
    "    elif score == 0:\n",
    "        return 'Neutral'\n",
    "    else:\n",
    "        return 'Positive'"
   ]
  },
  {
   "cell_type": "code",
   "execution_count": 202,
   "metadata": {},
   "outputs": [],
   "source": [
    "base['Polaridad_textBlob']  = base['comment_clean'].apply(lambda x: getPolarity(x))\n",
    "base['sentimiento_textBlob'] = base['Polaridad_textBlob'].apply(lambda x: analysis(x))"
   ]
  },
  {
   "cell_type": "markdown",
   "metadata": {},
   "source": [
    "Vader"
   ]
  },
  {
   "cell_type": "code",
   "execution_count": 203,
   "metadata": {},
   "outputs": [],
   "source": [
    "\n",
    "analyzer = SentimentIntensityAnalyzer()\n",
    "\n",
    "\n",
    "def vadersentimentanalysis(review):\n",
    "    vs = analyzer.polarity_scores(review)\n",
    "    return vs['compound']\n",
    "\n",
    "\n",
    "# function to analyse \n",
    "def vader_analysis(compound):\n",
    "    if compound >= 0.5:\n",
    "        return 'Positive'\n",
    "    elif compound <= -0.5 :\n",
    "        return 'Negative'\n",
    "    else:\n",
    "        return 'Neutral'\n",
    "    \n",
    "\n",
    "base['Sentiment_Vader'] = base['comment_clean'].apply(vadersentimentanalysis)\n",
    "base['sentimiento_Vader'] = base['Sentiment_Vader'].apply(vader_analysis)"
   ]
  },
  {
   "cell_type": "markdown",
   "metadata": {},
   "source": [
    "Sentynet"
   ]
  },
  {
   "cell_type": "code",
   "execution_count": 204,
   "metadata": {},
   "outputs": [],
   "source": [
    "pos_dict = {'J':wordnet.ADJ, 'V':wordnet.VERB, 'N':wordnet.NOUN, 'R':wordnet.ADV}\n"
   ]
  },
  {
   "cell_type": "code",
   "execution_count": 205,
   "metadata": {},
   "outputs": [],
   "source": [
    "def token_stop_pos(text):\n",
    "    tags = pos_tag(word_tokenize(text))\n",
    "    newlist = []\n",
    "    for word, tag in tags:\n",
    "        if word.lower() not in set(stopwords.words('english')):\n",
    "            newlist.append(tuple([word, pos_dict.get(tag[0])]))\n",
    "    return newlist"
   ]
  },
  {
   "cell_type": "code",
   "execution_count": 206,
   "metadata": {},
   "outputs": [],
   "source": [
    "\n",
    "base['POS tagged'] = base['comment_clean'].apply(token_stop_pos)"
   ]
  },
  {
   "cell_type": "code",
   "execution_count": 207,
   "metadata": {},
   "outputs": [],
   "source": [
    "def sentiwordnetanalysis(pos_data):\n",
    "    sentiment = 0\n",
    "    tokens_count = 0\n",
    "    for word, pos in pos_data:\n",
    "        if not pos:\n",
    "            continue\n",
    "        lemma = lemmatizer.lemmatize(word, pos=pos)\n",
    "        if not lemma:\n",
    "            continue\n",
    "        \n",
    "        synsets = wordnet.synsets(lemma, pos=pos)\n",
    "        if not synsets:\n",
    "            continue\n",
    "\n",
    "        # Take the first sense, the most common\n",
    "        synset = synsets[0]\n",
    "        swn_synset = swn.senti_synset(synset.name())\n",
    "        sentiment += swn_synset.pos_score() - swn_synset.neg_score()\n",
    "        tokens_count += 1\n",
    "        # print(swn_synset.pos_score(),swn_synset.neg_score(),swn_synset.obj_score())\n",
    "    if not tokens_count:\n",
    "        return \"Neutral\"\n",
    "    if sentiment>0:\n",
    "        return \"Positive\"\n",
    "    if sentiment==0:\n",
    "        return \"Neutral\"\n",
    "    else:\n",
    "        return \"Negative\""
   ]
  },
  {
   "cell_type": "code",
   "execution_count": 208,
   "metadata": {},
   "outputs": [],
   "source": [
    "base['sentimiento_sentinet'] = base['POS tagged'].apply(sentiwordnetanalysis)\n",
    "#base.head(5)"
   ]
  },
  {
   "cell_type": "code",
   "execution_count": 209,
   "metadata": {},
   "outputs": [
    {
     "data": {
      "text/plain": [
       "stars                    object\n",
       "comment                  object\n",
       "book_url                 object\n",
       "LongitudComentario        int64\n",
       "sentimiento1             object\n",
       "comment_clean            object\n",
       "Polaridad_textBlob      float64\n",
       "sentimiento_textBlob     object\n",
       "Sentiment_Vader         float64\n",
       "sentimiento_Vader        object\n",
       "POS tagged               object\n",
       "sentimiento_sentinet     object\n",
       "dtype: object"
      ]
     },
     "execution_count": 209,
     "metadata": {},
     "output_type": "execute_result"
    }
   ],
   "source": [
    "base.dtypes"
   ]
  },
  {
   "cell_type": "markdown",
   "metadata": {},
   "source": [
    "Gráficas"
   ]
  },
  {
   "cell_type": "code",
   "execution_count": 210,
   "metadata": {},
   "outputs": [
    {
     "data": {
      "image/png": "[encoded data removed]",
      "text/plain": [
       "<Figure size 504x288 with 1 Axes>"
      ]
     },
     "metadata": {},
     "output_type": "display_data"
    }
   ],
   "source": [
    "order_list = ['1.0', '2.0', '3.0', '4.0', '5.0']\n",
    "fig = plt.figure(figsize = (7,4))\n",
    "ax = sns.countplot(data = base, x = 'stars', order=order_list,palette=['#207394','#eede7b', '#833118','#084152','#cd5241'])"
   ]
  },
  {
   "cell_type": "code",
   "execution_count": 211,
   "metadata": {},
   "outputs": [
    {
     "data": {
      "image/png": "[encoded data removed]",
      "text/plain": [
       "<Figure size 504x288 with 1 Axes>"
      ]
     },
     "metadata": {},
     "output_type": "display_data"
    }
   ],
   "source": [
    "\n",
    "fig = plt.figure(figsize = (7,4))\n",
    "order_list = ['Neutral', 'Negative', 'Positive']\n",
    "ax = sns.countplot(data = base, x = 'sentimiento1',order=order_list, palette=[ '#debd29', '#ac0031','#5a9c39'])"
   ]
  },
  {
   "cell_type": "code",
   "execution_count": 212,
   "metadata": {},
   "outputs": [
    {
     "data": {
      "image/png": "[encoded data removed]",
      "text/plain": [
       "<Figure size 504x288 with 1 Axes>"
      ]
     },
     "metadata": {},
     "output_type": "display_data"
    }
   ],
   "source": [
    "\n",
    "fig = plt.figure(figsize = (7,4))\n",
    "order_list = ['Neutral', 'Negative', 'Positive']\n",
    "ax = sns.countplot(data = base, x = 'sentimiento_textBlob',order= order_list, palette=[ '#debd29', '#ac0031','#5a9c39'])"
   ]
  },
  {
   "cell_type": "code",
   "execution_count": 213,
   "metadata": {},
   "outputs": [
    {
     "data": {
      "image/png": "[encoded data removed]",
      "text/plain": [
       "<Figure size 504x288 with 1 Axes>"
      ]
     },
     "metadata": {},
     "output_type": "display_data"
    }
   ],
   "source": [
    "fig = plt.figure(figsize = (7,4))\n",
    "order_list = ['Neutral', 'Negative', 'Positive']\n",
    "ax = sns.countplot(data = base, x = 'sentimiento_Vader',order= order_list, palette=[ '#debd29', '#ac0031','#5a9c39'])"
   ]
  },
  {
   "cell_type": "code",
   "execution_count": 214,
   "metadata": {},
   "outputs": [
    {
     "data": {
      "image/png": "[encoded data removed]",
      "text/plain": [
       "<Figure size 504x288 with 1 Axes>"
      ]
     },
     "metadata": {},
     "output_type": "display_data"
    }
   ],
   "source": [
    "fig = plt.figure(figsize = (7,4))\n",
    "order_list = ['Neutral', 'Negative', 'Positive']\n",
    "ax = sns.countplot(data = base, x = 'sentimiento_sentinet',order= order_list, palette=[ '#debd29', '#ac0031','#5a9c39'])"
   ]
  },
  {
   "cell_type": "code",
   "execution_count": 215,
   "metadata": {},
   "outputs": [
    {
     "data": {
      "text/html": [
       "<div>\n",
       "<style scoped>\n",
       "    .dataframe tbody tr th:only-of-type {\n",
       "        vertical-align: middle;\n",
       "    }\n",
       "\n",
       "    .dataframe tbody tr th {\n",
       "        vertical-align: top;\n",
       "    }\n",
       "\n",
       "    .dataframe thead th {\n",
       "        text-align: right;\n",
       "    }\n",
       "</style>\n",
       "<table border=\"1\" class=\"dataframe\">\n",
       "  <thead>\n",
       "    <tr style=\"text-align: right;\">\n",
       "      <th></th>\n",
       "      <th>variable</th>\n",
       "      <th>value</th>\n",
       "    </tr>\n",
       "  </thead>\n",
       "  <tbody>\n",
       "    <tr>\n",
       "      <th>0</th>\n",
       "      <td>sentimiento1</td>\n",
       "      <td>Positive</td>\n",
       "    </tr>\n",
       "    <tr>\n",
       "      <th>1</th>\n",
       "      <td>sentimiento1</td>\n",
       "      <td>Negative</td>\n",
       "    </tr>\n",
       "    <tr>\n",
       "      <th>2</th>\n",
       "      <td>sentimiento1</td>\n",
       "      <td>Positive</td>\n",
       "    </tr>\n",
       "    <tr>\n",
       "      <th>3</th>\n",
       "      <td>sentimiento1</td>\n",
       "      <td>Positive</td>\n",
       "    </tr>\n",
       "    <tr>\n",
       "      <th>4</th>\n",
       "      <td>sentimiento1</td>\n",
       "      <td>Positive</td>\n",
       "    </tr>\n",
       "    <tr>\n",
       "      <th>...</th>\n",
       "      <td>...</td>\n",
       "      <td>...</td>\n",
       "    </tr>\n",
       "    <tr>\n",
       "      <th>82583</th>\n",
       "      <td>sentimiento_sentinet</td>\n",
       "      <td>Neutral</td>\n",
       "    </tr>\n",
       "    <tr>\n",
       "      <th>82584</th>\n",
       "      <td>sentimiento_sentinet</td>\n",
       "      <td>Negative</td>\n",
       "    </tr>\n",
       "    <tr>\n",
       "      <th>82585</th>\n",
       "      <td>sentimiento_sentinet</td>\n",
       "      <td>Positive</td>\n",
       "    </tr>\n",
       "    <tr>\n",
       "      <th>82586</th>\n",
       "      <td>sentimiento_sentinet</td>\n",
       "      <td>Positive</td>\n",
       "    </tr>\n",
       "    <tr>\n",
       "      <th>82587</th>\n",
       "      <td>sentimiento_sentinet</td>\n",
       "      <td>Neutral</td>\n",
       "    </tr>\n",
       "  </tbody>\n",
       "</table>\n",
       "<p>82588 rows × 2 columns</p>\n",
       "</div>"
      ],
      "text/plain": [
       "                   variable     value\n",
       "0              sentimiento1  Positive\n",
       "1              sentimiento1  Negative\n",
       "2              sentimiento1  Positive\n",
       "3              sentimiento1  Positive\n",
       "4              sentimiento1  Positive\n",
       "...                     ...       ...\n",
       "82583  sentimiento_sentinet   Neutral\n",
       "82584  sentimiento_sentinet  Negative\n",
       "82585  sentimiento_sentinet  Positive\n",
       "82586  sentimiento_sentinet  Positive\n",
       "82587  sentimiento_sentinet   Neutral\n",
       "\n",
       "[82588 rows x 2 columns]"
      ]
     },
     "execution_count": 215,
     "metadata": {},
     "output_type": "execute_result"
    }
   ],
   "source": [
    "base_2 = base[['sentimiento1','sentimiento_textBlob', 'sentimiento_Vader','sentimiento_sentinet']].melt()\n",
    "base_2"
   ]
  },
  {
   "cell_type": "code",
   "execution_count": 216,
   "metadata": {},
   "outputs": [
    {
     "data": {
      "text/plain": [
       "Text(0.5, 1.0, 'Sentimiento Sentinet')"
      ]
     },
     "execution_count": 216,
     "metadata": {},
     "output_type": "execute_result"
    },
    {
     "data": {
      "text/plain": [
       "<Figure size 720x504 with 0 Axes>"
      ]
     },
     "metadata": {},
     "output_type": "display_data"
    },
    {
     "data": {
      "image/png": "[encoded data removed]",
      "text/plain": [
       "<Figure size 1440x360 with 4 Axes>"
      ]
     },
     "metadata": {},
     "output_type": "display_data"
    }
   ],
   "source": [
    "\n",
    "fig = plt.figure(figsize = (10,7))\n",
    "order_list = ['Neutral', 'Negative', 'Positive']\n",
    "ax = sns.catplot(x= 'value', col=\"variable\",kind='count', data=base_2, palette=[ '#5a9c39', '#ac0031','#debd29'])\n",
    "\n",
    "axes = ax.axes.flatten()\n",
    "axes[0].set_title(\"Sentimiento 1\")\n",
    "axes[1].set_title(\"Sentimiento TextBlob\")\n",
    "axes[2].set_title(\"Sentimiento Vader\")\n",
    "axes[3].set_title(\"Sentimiento Sentinet\")"
   ]
  },
  {
   "cell_type": "code",
   "execution_count": 217,
   "metadata": {},
   "outputs": [],
   "source": [
    "from sklearn.metrics import confusion_matrix\n",
    "y_true = [\"cat\", \"ant\", \"cat\", \"cat\", \"ant\", \"bird\"]\n",
    "y_pred = [\"ant\", \"ant\", \"cat\", \"cat\", \"ant\", \"cat\"]\n",
    "c= confusion_matrix(y_true, y_pred, labels=[\"ant\", \"bird\", \"cat\"])"
   ]
  },
  {
   "cell_type": "code",
   "execution_count": 218,
   "metadata": {},
   "outputs": [
    {
     "name": "stdout",
     "output_type": "stream",
     "text": [
      "              precision    recall  f1-score   support\n",
      "\n",
      "         ant       0.67      1.00      0.80         2\n",
      "        bird       0.00      0.00      0.00         1\n",
      "         cat       0.67      0.67      0.67         3\n",
      "\n",
      "    accuracy                           0.67         6\n",
      "   macro avg       0.44      0.56      0.49         6\n",
      "weighted avg       0.56      0.67      0.60         6\n",
      "\n"
     ]
    },
    {
     "name": "stderr",
     "output_type": "stream",
     "text": [
      "c:\\Users\\User\\anaconda3\\lib\\site-packages\\sklearn\\metrics\\_classification.py:1245: UndefinedMetricWarning: Precision and F-score are ill-defined and being set to 0.0 in labels with no predicted samples. Use `zero_division` parameter to control this behavior.\n",
      "  _warn_prf(average, modifier, msg_start, len(result))\n",
      "c:\\Users\\User\\anaconda3\\lib\\site-packages\\sklearn\\metrics\\_classification.py:1245: UndefinedMetricWarning: Precision and F-score are ill-defined and being set to 0.0 in labels with no predicted samples. Use `zero_division` parameter to control this behavior.\n",
      "  _warn_prf(average, modifier, msg_start, len(result))\n",
      "c:\\Users\\User\\anaconda3\\lib\\site-packages\\sklearn\\metrics\\_classification.py:1245: UndefinedMetricWarning: Precision and F-score are ill-defined and being set to 0.0 in labels with no predicted samples. Use `zero_division` parameter to control this behavior.\n",
      "  _warn_prf(average, modifier, msg_start, len(result))\n"
     ]
    }
   ],
   "source": [
    "from sklearn.metrics import classification_report\n",
    "print(classification_report(y_true, y_pred))"
   ]
  },
  {
   "cell_type": "code",
   "execution_count": 219,
   "metadata": {},
   "outputs": [
    {
     "data": {
      "text/plain": [
       "Text(0.5, 1.0, 'Matriz de Confución- Random Forest')"
      ]
     },
     "execution_count": 219,
     "metadata": {},
     "output_type": "execute_result"
    },
    {
     "data": {
      "image/png": "[encoded data removed]",
      "text/plain": [
       "<Figure size 432x288 with 2 Axes>"
      ]
     },
     "metadata": {},
     "output_type": "display_data"
    }
   ],
   "source": [
    "sns.heatmap(c,annot=True, cmap=\"YlOrBr\", fmt=\"d\", \n",
    "            xticklabels =[\"ant\", \"bird\", \"cat\"], \n",
    "            yticklabels = [\"ant\", \"bird\", \"cat\"])\n",
    "plt.ylabel('Etiqueta Real')\n",
    "plt.xlabel('Etiqueta Predecida')\n",
    "plt.title(\"Matriz de Confución- Random Forest\")"
   ]
  },
  {
   "cell_type": "code",
   "execution_count": 220,
   "metadata": {},
   "outputs": [],
   "source": [
    "y_real = base['sentimiento1']\n",
    "y_pred_text_blob =base['sentimiento_textBlob']\n",
    "y_pred_vader = base['sentimiento_Vader']\n",
    "y_pred_sentinet = base['sentimiento_sentinet']"
   ]
  },
  {
   "cell_type": "code",
   "execution_count": 221,
   "metadata": {},
   "outputs": [
    {
     "name": "stdout",
     "output_type": "stream",
     "text": [
      "              precision    recall  f1-score   support\n",
      "\n",
      "    Negative       0.44      0.37      0.40      2359\n",
      "     Neutral       0.06      0.06      0.06      1431\n",
      "    Positive       0.86      0.88      0.87     16857\n",
      "\n",
      "    accuracy                           0.77     20647\n",
      "   macro avg       0.46      0.44      0.45     20647\n",
      "weighted avg       0.76      0.77      0.76     20647\n",
      "\n"
     ]
    },
    {
     "data": {
      "text/plain": [
       "Text(0.5, 1.0, 'Matriz de Confución- Random Forest')"
      ]
     },
     "execution_count": 221,
     "metadata": {},
     "output_type": "execute_result"
    },
    {
     "data": {
      "image/png": "[encoded data removed]",
      "text/plain": [
       "<Figure size 432x288 with 2 Axes>"
      ]
     },
     "metadata": {},
     "output_type": "display_data"
    }
   ],
   "source": [
    "m1 = confusion_matrix(y_real, y_pred_text_blob)\n",
    "print(classification_report(y_real, y_pred_text_blob))\n",
    "\n",
    "sns.heatmap(m1,annot=True, cmap=\"YlOrBr\", fmt=\"d\", \n",
    "            xticklabels =[\"Negative\", \"Neutral\", \"Positive\"], \n",
    "            yticklabels = [\"Negative\", \"Neutral\", \"Positive\"])\n",
    "plt.ylabel('Etiqueta Real')\n",
    "plt.xlabel('Etiqueta Predecida')\n",
    "plt.title(\"Matriz de Confución- Random Forest\")"
   ]
  },
  {
   "cell_type": "code",
   "execution_count": 222,
   "metadata": {},
   "outputs": [
    {
     "name": "stdout",
     "output_type": "stream",
     "text": [
      "              precision    recall  f1-score   support\n",
      "\n",
      "    Negative       0.48      0.19      0.27      2359\n",
      "     Neutral       0.10      0.40      0.16      1431\n",
      "    Positive       0.89      0.73      0.80     16857\n",
      "\n",
      "    accuracy                           0.65     20647\n",
      "   macro avg       0.49      0.44      0.41     20647\n",
      "weighted avg       0.79      0.65      0.70     20647\n",
      "\n"
     ]
    },
    {
     "data": {
      "text/plain": [
       "Text(0.5, 1.0, 'Matriz de Confución- Random Forest')"
      ]
     },
     "execution_count": 222,
     "metadata": {},
     "output_type": "execute_result"
    },
    {
     "data": {
      "image/png": "[encoded data removed]",
      "text/plain": [
       "<Figure size 432x288 with 2 Axes>"
      ]
     },
     "metadata": {},
     "output_type": "display_data"
    }
   ],
   "source": [
    "m2 = confusion_matrix(y_real, y_pred_vader)\n",
    "print(classification_report(y_real, y_pred_vader))\n",
    "\n",
    "sns.heatmap(m2,annot=True, cmap=\"YlOrBr\", fmt=\"d\", \n",
    "            xticklabels =[\"Negative\", \"Neutral\", \"Positive\"], \n",
    "            yticklabels = [\"Negative\", \"Neutral\", \"Positive\"])\n",
    "plt.ylabel('Etiqueta Real')\n",
    "plt.xlabel('Etiqueta Predecida')\n",
    "plt.title(\"Matriz de Confución- Random Forest\")"
   ]
  },
  {
   "cell_type": "code",
   "execution_count": 223,
   "metadata": {},
   "outputs": [
    {
     "name": "stdout",
     "output_type": "stream",
     "text": [
      "              precision    recall  f1-score   support\n",
      "\n",
      "    Negative       0.30      0.36      0.33      2359\n",
      "     Neutral       0.06      0.08      0.07      1431\n",
      "    Positive       0.86      0.82      0.84     16857\n",
      "\n",
      "    accuracy                           0.71     20647\n",
      "   macro avg       0.41      0.42      0.41     20647\n",
      "weighted avg       0.74      0.71      0.72     20647\n",
      "\n"
     ]
    },
    {
     "data": {
      "text/plain": [
       "Text(0.5, 1.0, 'Matriz de Confución- Random Forest')"
      ]
     },
     "execution_count": 223,
     "metadata": {},
     "output_type": "execute_result"
    },
    {
     "data": {
      "image/png": "[encoded data removed]",
      "text/plain": [
       "<Figure size 432x288 with 2 Axes>"
      ]
     },
     "metadata": {},
     "output_type": "display_data"
    }
   ],
   "source": [
    "m3 = confusion_matrix(y_real, y_pred_sentinet)\n",
    "print(classification_report(y_real, y_pred_sentinet))\n",
    "\n",
    "sns.heatmap(m2,annot=True, cmap=\"YlOrBr\", fmt=\"d\", \n",
    "            xticklabels =[\"Negative\", \"Neutral\", \"Positive\"], \n",
    "            yticklabels = [\"Negative\", \"Neutral\", \"Positive\"])\n",
    "plt.ylabel('Etiqueta Real')\n",
    "plt.xlabel('Etiqueta Predecida')\n",
    "plt.title(\"Matriz de Confución- Random Forest\")"
   ]
  },
  {
   "cell_type": "code",
   "execution_count": 224,
   "metadata": {},
   "outputs": [
    {
     "data": {
      "text/plain": [
       "Positive    16857\n",
       "Negative     2359\n",
       "Neutral      1431\n",
       "Name: sentimiento1, dtype: int64"
      ]
     },
     "execution_count": 224,
     "metadata": {},
     "output_type": "execute_result"
    }
   ],
   "source": [
    "base.sentimiento1.value_counts()"
   ]
  },
  {
   "cell_type": "code",
   "execution_count": 225,
   "metadata": {},
   "outputs": [
    {
     "data": {
      "text/plain": [
       "0        Positive\n",
       "1        Negative\n",
       "2        Positive\n",
       "3        Positive\n",
       "4        Positive\n",
       "           ...   \n",
       "20642     Neutral\n",
       "20643    Positive\n",
       "20644     Neutral\n",
       "20645    Positive\n",
       "20646    Positive\n",
       "Name: sentimiento1, Length: 20647, dtype: object"
      ]
     },
     "execution_count": 225,
     "metadata": {},
     "output_type": "execute_result"
    }
   ],
   "source": [
    "y_real"
   ]
  }
 ],
 "metadata": {
  "interpreter": {
   "hash": "f08154012ddadd8e950e6e9e035c7a7b32c136e7647e9b7c77e02eb723a8bedb"
  },
  "kernelspec": {
   "display_name": "Python 3.8.8 ('base')",
   "language": "python",
   "name": "python3"
  },
  "language_info": {
   "codemirror_mode": {
    "name": "ipython",
    "version": 3
   },
   "file_extension": ".py",
   "mimetype": "text/x-python",
   "name": "python",
   "nbconvert_exporter": "python",
   "pygments_lexer": "ipython3",
   "version": "3.8.8"
  },
  "orig_nbformat": 4
 },
 "nbformat": 4,
 "nbformat_minor": 2
}
